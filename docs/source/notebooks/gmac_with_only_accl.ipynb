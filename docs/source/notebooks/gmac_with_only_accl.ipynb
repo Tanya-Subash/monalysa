{
  "nbformat": 4,
  "nbformat_minor": 0,
  "metadata": {
    "colab": {
      "provenance": [],
      "collapsed_sections": []
    },
    "kernelspec": {
      "name": "python3",
      "display_name": "Python 3"
    },
    "language_info": {
      "name": "python"
    }
  },
  "cells": [
    {
      "cell_type": "code",
      "execution_count": 1,
      "metadata": {
        "colab": {
          "base_uri": "https://localhost:8080/"
        },
        "id": "-SFd6utj7j8d",
        "outputId": "1b412f95-d879-4c53-93ec-768126928d75"
      },
      "outputs": [
        {
          "output_type": "stream",
          "name": "stdout",
          "text": [
            "Mounted at drive\n"
          ]
        }
      ],
      "source": [
        "from google.colab import drive\n",
        "drive.mount('drive')"
      ]
    },
    {
      "cell_type": "code",
      "source": [
        "import sys\n",
        "import os\n",
        "\n",
        "basedrive = \"drive/My Drive/upper limb use assessment\"\n",
        "os.chdir(basedrive)\n",
        "sys.path.append(\"scripts\")"
      ],
      "metadata": {
        "id": "CmFNtZKR71KW"
      },
      "execution_count": 2,
      "outputs": []
    },
    {
      "cell_type": "code",
      "source": [
        "!pip install ahrs"
      ],
      "metadata": {
        "colab": {
          "base_uri": "https://localhost:8080/"
        },
        "id": "peh-QjET8bB4",
        "outputId": "2b90f605-7cdc-4667-b5b5-dbc87833938d"
      },
      "execution_count": 4,
      "outputs": [
        {
          "output_type": "stream",
          "name": "stdout",
          "text": [
            "Looking in indexes: https://pypi.org/simple, https://us-python.pkg.dev/colab-wheels/public/simple/\n",
            "Collecting ahrs\n",
            "  Downloading AHRS-0.3.1-py3-none-any.whl (197 kB)\n",
            "\u001b[K     |████████████████████████████████| 197 kB 5.2 MB/s \n",
            "\u001b[?25hRequirement already satisfied: numpy in /usr/local/lib/python3.7/dist-packages (from ahrs) (1.21.6)\n",
            "Installing collected packages: ahrs\n",
            "Successfully installed ahrs-0.3.1\n"
          ]
        }
      ]
    },
    {
      "cell_type": "code",
      "source": [
        "!pip install scikit-learn==0.23"
      ],
      "metadata": {
        "colab": {
          "base_uri": "https://localhost:8080/"
        },
        "id": "88MlfiUc8YS6",
        "outputId": "a88e6a81-8537-4909-ad6a-b5d803c3f9ce"
      },
      "execution_count": 5,
      "outputs": [
        {
          "output_type": "stream",
          "name": "stdout",
          "text": [
            "Looking in indexes: https://pypi.org/simple, https://us-python.pkg.dev/colab-wheels/public/simple/\n",
            "Collecting scikit-learn==0.23\n",
            "  Downloading scikit_learn-0.23.0-cp37-cp37m-manylinux1_x86_64.whl (7.3 MB)\n",
            "\u001b[K     |████████████████████████████████| 7.3 MB 4.6 MB/s \n",
            "\u001b[?25hRequirement already satisfied: threadpoolctl>=2.0.0 in /usr/local/lib/python3.7/dist-packages (from scikit-learn==0.23) (3.1.0)\n",
            "Requirement already satisfied: scipy>=0.19.1 in /usr/local/lib/python3.7/dist-packages (from scikit-learn==0.23) (1.7.3)\n",
            "Requirement already satisfied: numpy>=1.13.3 in /usr/local/lib/python3.7/dist-packages (from scikit-learn==0.23) (1.21.6)\n",
            "Requirement already satisfied: joblib>=0.11 in /usr/local/lib/python3.7/dist-packages (from scikit-learn==0.23) (1.2.0)\n",
            "Installing collected packages: scikit-learn\n",
            "  Attempting uninstall: scikit-learn\n",
            "    Found existing installation: scikit-learn 1.0.2\n",
            "    Uninstalling scikit-learn-1.0.2:\n",
            "      Successfully uninstalled scikit-learn-1.0.2\n",
            "\u001b[31mERROR: pip's dependency resolver does not currently take into account all the packages that are installed. This behaviour is the source of the following dependency conflicts.\n",
            "yellowbrick 1.5 requires scikit-learn>=1.0.0, but you have scikit-learn 0.23.0 which is incompatible.\n",
            "imbalanced-learn 0.8.1 requires scikit-learn>=0.24, but you have scikit-learn 0.23.0 which is incompatible.\u001b[0m\n",
            "Successfully installed scikit-learn-0.23.0\n"
          ]
        }
      ]
    },
    {
      "cell_type": "code",
      "source": [
        "!pip install scikit-posthocs"
      ],
      "metadata": {
        "colab": {
          "base_uri": "https://localhost:8080/"
        },
        "id": "YyjN3W648WAS",
        "outputId": "2b966788-e4d5-4685-88e9-d0d3cc4b9507"
      },
      "execution_count": 6,
      "outputs": [
        {
          "output_type": "stream",
          "name": "stdout",
          "text": [
            "Looking in indexes: https://pypi.org/simple, https://us-python.pkg.dev/colab-wheels/public/simple/\n",
            "Collecting scikit-posthocs\n",
            "  Downloading scikit_posthocs-0.7.0-py3-none-any.whl (38 kB)\n",
            "Requirement already satisfied: matplotlib in /usr/local/lib/python3.7/dist-packages (from scikit-posthocs) (3.2.2)\n",
            "Requirement already satisfied: seaborn in /usr/local/lib/python3.7/dist-packages (from scikit-posthocs) (0.11.2)\n",
            "Requirement already satisfied: numpy in /usr/local/lib/python3.7/dist-packages (from scikit-posthocs) (1.21.6)\n",
            "Requirement already satisfied: statsmodels in /usr/local/lib/python3.7/dist-packages (from scikit-posthocs) (0.12.2)\n",
            "Requirement already satisfied: scipy in /usr/local/lib/python3.7/dist-packages (from scikit-posthocs) (1.7.3)\n",
            "Requirement already satisfied: pandas>=0.20.0 in /usr/local/lib/python3.7/dist-packages (from scikit-posthocs) (1.3.5)\n",
            "Requirement already satisfied: pytz>=2017.3 in /usr/local/lib/python3.7/dist-packages (from pandas>=0.20.0->scikit-posthocs) (2022.5)\n",
            "Requirement already satisfied: python-dateutil>=2.7.3 in /usr/local/lib/python3.7/dist-packages (from pandas>=0.20.0->scikit-posthocs) (2.8.2)\n",
            "Requirement already satisfied: six>=1.5 in /usr/local/lib/python3.7/dist-packages (from python-dateutil>=2.7.3->pandas>=0.20.0->scikit-posthocs) (1.15.0)\n",
            "Requirement already satisfied: kiwisolver>=1.0.1 in /usr/local/lib/python3.7/dist-packages (from matplotlib->scikit-posthocs) (1.4.4)\n",
            "Requirement already satisfied: cycler>=0.10 in /usr/local/lib/python3.7/dist-packages (from matplotlib->scikit-posthocs) (0.11.0)\n",
            "Requirement already satisfied: pyparsing!=2.0.4,!=2.1.2,!=2.1.6,>=2.0.1 in /usr/local/lib/python3.7/dist-packages (from matplotlib->scikit-posthocs) (3.0.9)\n",
            "Requirement already satisfied: typing-extensions in /usr/local/lib/python3.7/dist-packages (from kiwisolver>=1.0.1->matplotlib->scikit-posthocs) (4.1.1)\n",
            "Requirement already satisfied: patsy>=0.5 in /usr/local/lib/python3.7/dist-packages (from statsmodels->scikit-posthocs) (0.5.3)\n",
            "Installing collected packages: scikit-posthocs\n",
            "Successfully installed scikit-posthocs-0.7.0\n"
          ]
        }
      ]
    },
    {
      "cell_type": "code",
      "source": [
        "import classification_algorithms as ca\n",
        "import reduced_models as rm\n",
        "import task_analysis as ta"
      ],
      "metadata": {
        "colab": {
          "base_uri": "https://localhost:8080/"
        },
        "id": "MjSXcfJ-8Pyq",
        "outputId": "d53d6dc7-30bc-4b9d-f779-d71f566e8c44"
      },
      "execution_count": 7,
      "outputs": [
        {
          "output_type": "stream",
          "name": "stderr",
          "text": [
            "/usr/local/lib/python3.7/dist-packages/sklearn/utils/deprecation.py:143: FutureWarning: The sklearn.neighbors.kde module is  deprecated in version 0.22 and will be removed in version 0.24. The corresponding classes / functions should instead be imported from sklearn.neighbors. Anything that cannot be imported from sklearn.neighbors is now part of the private API.\n",
            "  warnings.warn(message, FutureWarning)\n"
          ]
        }
      ]
    },
    {
      "cell_type": "code",
      "source": [
        "import numpy as np\n",
        "import math\n",
        "import matplotlib.pyplot as plt\n",
        "from scipy.stats import pearsonr\n",
        "from scipy import signal"
      ],
      "metadata": {
        "id": "ij2CPEos9clm"
      },
      "execution_count": 140,
      "outputs": []
    },
    {
      "cell_type": "code",
      "source": [
        "l, r = ca.read_data('control')\n",
        "aff, unaff = ca.read_data('patient')"
      ],
      "metadata": {
        "id": "mSMQTzY48cme"
      },
      "execution_count": 8,
      "outputs": []
    },
    {
      "cell_type": "markdown",
      "source": [
        "# Pitch"
      ],
      "metadata": {
        "id": "rUXawxabRNvG"
      }
    },
    {
      "cell_type": "code",
      "source": [
        "def compute_tilt(ax, freq):\n",
        "  w = round(freq)\n",
        "  ax = np.append(np.ones(w-1)*ax[0], ax)\n",
        "\n",
        "  # moving average filter\n",
        "  ax = np.convolve(ax, np.ones(w), 'valid') / w\n",
        "\n",
        "  ax[ax<-1] = -1\n",
        "  ax[ax>1] = 1\n",
        "  return -np.rad2deg(np.arccos(ax))+90"
      ],
      "metadata": {
        "id": "Rtz_0Y30FaqT"
      },
      "execution_count": 285,
      "outputs": []
    },
    {
      "cell_type": "code",
      "source": [
        "ax = r[r.subject==1].ax.values\n",
        "pitch_hat = compute_tilt(ax, 50)\n",
        "pitch = r[r.subject==1].pitch.values"
      ],
      "metadata": {
        "id": "vZpeRL9S8quS"
      },
      "execution_count": 286,
      "outputs": []
    },
    {
      "cell_type": "code",
      "source": [
        "plt.plot(pitch_hat)\n",
        "plt.plot(pitch)"
      ],
      "metadata": {
        "colab": {
          "base_uri": "https://localhost:8080/",
          "height": 282
        },
        "id": "4vjhwdM2BSTv",
        "outputId": "4f205de3-9dff-43ce-888a-7c5401b574a9"
      },
      "execution_count": 287,
      "outputs": [
        {
          "output_type": "execute_result",
          "data": {
            "text/plain": [
              "[<matplotlib.lines.Line2D at 0x7fb0b1537550>]"
            ]
          },
          "metadata": {},
          "execution_count": 287
        },
        {
          "output_type": "display_data",
          "data": {
            "text/plain": [
              "<Figure size 432x288 with 1 Axes>"
            ],
            "image/png": "[encoded data removed]"
          },
          "metadata": {
            "needs_background": "light"
          }
        }
      ]
    },
    {
      "cell_type": "code",
      "source": [
        "plt.scatter(pitch_hat, pitch)\n",
        "plt.xlabel('angle from ax')\n",
        "plt.ylabel('pitch')"
      ],
      "metadata": {
        "colab": {
          "base_uri": "https://localhost:8080/",
          "height": 296
        },
        "id": "708CGXUn_v6i",
        "outputId": "9af8efa3-be7a-46b0-f2a7-943c0c9fbe12"
      },
      "execution_count": 349,
      "outputs": [
        {
          "output_type": "execute_result",
          "data": {
            "text/plain": [
              "Text(0, 0.5, 'pitch')"
            ]
          },
          "metadata": {},
          "execution_count": 349
        },
        {
          "output_type": "display_data",
          "data": {
            "text/plain": [
              "<Figure size 432x288 with 1 Axes>"
            ],
            "image/png": "[encoded data removed]"
          },
          "metadata": {
            "needs_background": "light"
          }
        }
      ]
    },
    {
      "cell_type": "code",
      "source": [
        "pearsonr(pitch, pitch_hat)"
      ],
      "metadata": {
        "colab": {
          "base_uri": "https://localhost:8080/"
        },
        "id": "UdbnSLk8BaZQ",
        "outputId": "ef1bf66a-f9ad-4036-da0e-34800546a192"
      },
      "execution_count": 289,
      "outputs": [
        {
          "output_type": "execute_result",
          "data": {
            "text/plain": [
              "(0.9046985706407787, 0.0)"
            ]
          },
          "metadata": {},
          "execution_count": 289
        }
      ]
    },
    {
      "cell_type": "markdown",
      "source": [
        "# Activity counts"
      ],
      "metadata": {
        "id": "9S0gxxbNRX1r"
      }
    },
    {
      "cell_type": "code",
      "source": [
        "counts = (ca.compute_vector_magnitude(r[r.subject==1])).counts.values\n",
        "ay = r[r.subject==1].ay\n",
        "az = r[r.subject==1].az"
      ],
      "metadata": {
        "id": "3Ni0wAsZR_Gn"
      },
      "execution_count": 290,
      "outputs": []
    },
    {
      "cell_type": "code",
      "source": [
        "b, a = signal.butter(2, 1/(2*50), 'high')\n",
        "ax_filt = signal.filtfilt(b, a, ax)\n",
        "ay_filt = signal.filtfilt(b, a, ay)\n",
        "az_filt = signal.filtfilt(b, a, az)\n",
        "\n",
        "ax_filt[np.abs(ax_filt)<0.068] = 0\n",
        "ay_filt[np.abs(ay_filt)<0.068] = 0\n",
        "az_filt[np.abs(az_filt)<0.068] = 0\n",
        "\n",
        "amag = [np.linalg.norm(x) for x in np.column_stack((ax_filt, ay_filt, az_filt))]\n",
        "amag = [sum(amag[i:i+50]) for i in range(0, len(amag), 50)]\n",
        "w = 5\n",
        "amag = np.append(np.ones(w-1)*amag[0], amag)\n",
        "\n",
        "# moving average filter\n",
        "amag = np.convolve(amag, np.ones(w), 'valid') / w"
      ],
      "metadata": {
        "id": "LwzWzQ2iUg9S"
      },
      "execution_count": 335,
      "outputs": []
    },
    {
      "cell_type": "code",
      "source": [
        "plt.plot(ax)\n",
        "plt.plot(ax_filt)"
      ],
      "metadata": {
        "colab": {
          "base_uri": "https://localhost:8080/",
          "height": 286
        },
        "id": "uqoqaFLoeuhk",
        "outputId": "6a95bd92-6a1a-4f03-83de-cd890fd3b6e6"
      },
      "execution_count": 336,
      "outputs": [
        {
          "output_type": "execute_result",
          "data": {
            "text/plain": [
              "[<matplotlib.lines.Line2D at 0x7fb0b16f8450>]"
            ]
          },
          "metadata": {},
          "execution_count": 336
        },
        {
          "output_type": "display_data",
          "data": {
            "text/plain": [
              "<Figure size 432x288 with 1 Axes>"
            ],
            "image/png": "[encoded data removed]"
          },
          "metadata": {
            "needs_background": "light"
          }
        }
      ]
    },
    {
      "cell_type": "code",
      "source": [
        "plt.plot(counts)"
      ],
      "metadata": {
        "colab": {
          "base_uri": "https://localhost:8080/",
          "height": 282
        },
        "id": "djR8hv5Zb6d0",
        "outputId": "62842410-11f4-4839-86e3-ab4c91f7b7bf"
      },
      "execution_count": 337,
      "outputs": [
        {
          "output_type": "execute_result",
          "data": {
            "text/plain": [
              "[<matplotlib.lines.Line2D at 0x7fb0b15e2790>]"
            ]
          },
          "metadata": {},
          "execution_count": 337
        },
        {
          "output_type": "display_data",
          "data": {
            "text/plain": [
              "<Figure size 432x288 with 1 Axes>"
            ],
            "image/png": "[encoded data removed]"
          },
          "metadata": {
            "needs_background": "light"
          }
        }
      ]
    },
    {
      "cell_type": "code",
      "source": [
        "plt.plot(amag)"
      ],
      "metadata": {
        "colab": {
          "base_uri": "https://localhost:8080/",
          "height": 282
        },
        "id": "UBxLsGkDdbBd",
        "outputId": "d69ddc7b-11a4-4a69-ff65-34e479130d95"
      },
      "execution_count": 338,
      "outputs": [
        {
          "output_type": "execute_result",
          "data": {
            "text/plain": [
              "[<matplotlib.lines.Line2D at 0x7fb0b154a7d0>]"
            ]
          },
          "metadata": {},
          "execution_count": 338
        },
        {
          "output_type": "display_data",
          "data": {
            "text/plain": [
              "<Figure size 432x288 with 1 Axes>"
            ],
            "image/png": "[encoded data removed]"
          },
          "metadata": {
            "needs_background": "light"
          }
        }
      ]
    },
    {
      "cell_type": "code",
      "source": [
        "counts[np.isnan(counts)] = 0"
      ],
      "metadata": {
        "id": "1DCmCUTIiRZh"
      },
      "execution_count": 339,
      "outputs": []
    },
    {
      "cell_type": "code",
      "source": [
        "plt.scatter(amag, counts[1:])\n",
        "plt.xlabel('magnitude of highpass filtered accl')\n",
        "plt.ylabel('counts')"
      ],
      "metadata": {
        "colab": {
          "base_uri": "https://localhost:8080/",
          "height": 296
        },
        "id": "lm-SReiveTcv",
        "outputId": "55192775-7cc3-4d20-87f7-8628cc32de10"
      },
      "execution_count": 348,
      "outputs": [
        {
          "output_type": "execute_result",
          "data": {
            "text/plain": [
              "Text(0, 0.5, 'counts')"
            ]
          },
          "metadata": {},
          "execution_count": 348
        },
        {
          "output_type": "display_data",
          "data": {
            "text/plain": [
              "<Figure size 432x288 with 1 Axes>"
            ],
            "image/png": "[encoded data removed]"
          },
          "metadata": {
            "needs_background": "light"
          }
        }
      ]
    },
    {
      "cell_type": "code",
      "source": [
        "pearsonr(amag, counts[1:])"
      ],
      "metadata": {
        "colab": {
          "base_uri": "https://localhost:8080/"
        },
        "id": "4FXDxkJYbf_-",
        "outputId": "07a8e89b-ca96-416b-f851-0fc799251d40"
      },
      "execution_count": 341,
      "outputs": [
        {
          "output_type": "execute_result",
          "data": {
            "text/plain": [
              "(0.8822045564601536, 2.618118077333752e-129)"
            ]
          },
          "metadata": {},
          "execution_count": 341
        }
      ]
    },
    {
      "cell_type": "markdown",
      "source": [
        "# GMAC"
      ],
      "metadata": {
        "id": "Zh-FHouekMzZ"
      }
    },
    {
      "cell_type": "code",
      "source": [
        "gmac = [1 if np.abs(pitch) < 30 and count > 0 else 0 for pitch, count in zip(pitch_hat, amag)]\n",
        "gnd = [r[r.subject==1].gnd[i] for i in range(0, len(r[r.subject==1]), 50)]"
      ],
      "metadata": {
        "id": "pd1IGuqWjGle"
      },
      "execution_count": 342,
      "outputs": []
    },
    {
      "cell_type": "code",
      "source": [
        "ca.confmatrix(gmac, gnd)"
      ],
      "metadata": {
        "colab": {
          "base_uri": "https://localhost:8080/",
          "height": 81
        },
        "id": "YHoYlR6XkU1K",
        "outputId": "95ac64c0-3766-41ba-8123-4c281005e2b8"
      },
      "execution_count": 343,
      "outputs": [
        {
          "output_type": "execute_result",
          "data": {
            "text/plain": [
              "   true positive  false positive  false negative  true negative  accuracy  \\\n",
              "0       0.368286        0.089514        0.381074       0.161125  0.529412   \n",
              "\n",
              "   gwets ac1 score  sensitivity  specificity  precision  f1 score  \\\n",
              "0         0.097553     0.491468     0.642857   0.804469  0.610169   \n",
              "\n",
              "   balanced accuracy  \n",
              "0           0.567162  "
            ],
            "text/html": [
              "\n",
              "  <div id=\"df-c1bdc3a9-02ee-48cd-91d0-a65eaeaa527d\">\n",
              "    <div class=\"colab-df-container\">\n",
              "      <div>\n",
              "<style scoped>\n",
              "    .dataframe tbody tr th:only-of-type {\n",
              "        vertical-align: middle;\n",
              "    }\n",
              "\n",
              "    .dataframe tbody tr th {\n",
              "        vertical-align: top;\n",
              "    }\n",
              "\n",
              "    .dataframe thead th {\n",
              "        text-align: right;\n",
              "    }\n",
              "</style>\n",
              "<table border=\"1\" class=\"dataframe\">\n",
              "  <thead>\n",
              "    <tr style=\"text-align: right;\">\n",
              "      <th></th>\n",
              "      <th>true positive</th>\n",
              "      <th>false positive</th>\n",
              "      <th>false negative</th>\n",
              "      <th>true negative</th>\n",
              "      <th>accuracy</th>\n",
              "      <th>gwets ac1 score</th>\n",
              "      <th>sensitivity</th>\n",
              "      <th>specificity</th>\n",
              "      <th>precision</th>\n",
              "      <th>f1 score</th>\n",
              "      <th>balanced accuracy</th>\n",
              "    </tr>\n",
              "  </thead>\n",
              "  <tbody>\n",
              "    <tr>\n",
              "      <th>0</th>\n",
              "      <td>0.368286</td>\n",
              "      <td>0.089514</td>\n",
              "      <td>0.381074</td>\n",
              "      <td>0.161125</td>\n",
              "      <td>0.529412</td>\n",
              "      <td>0.097553</td>\n",
              "      <td>0.491468</td>\n",
              "      <td>0.642857</td>\n",
              "      <td>0.804469</td>\n",
              "      <td>0.610169</td>\n",
              "      <td>0.567162</td>\n",
              "    </tr>\n",
              "  </tbody>\n",
              "</table>\n",
              "</div>\n",
              "      <button class=\"colab-df-convert\" onclick=\"convertToInteractive('df-c1bdc3a9-02ee-48cd-91d0-a65eaeaa527d')\"\n",
              "              title=\"Convert this dataframe to an interactive table.\"\n",
              "              style=\"display:none;\">\n",
              "        \n",
              "  <svg xmlns=\"http://www.w3.org/2000/svg\" height=\"24px\"viewBox=\"0 0 24 24\"\n",
              "       width=\"24px\">\n",
              "    <path d=\"M0 0h24v24H0V0z\" fill=\"none\"/>\n",
              "    <path d=\"M18.56 5.44l.94 2.06.94-2.06 2.06-.94-2.06-.94-.94-2.06-.94 2.06-2.06.94zm-11 1L8.5 8.5l.94-2.06 2.06-.94-2.06-.94L8.5 2.5l-.94 2.06-2.06.94zm10 10l.94 2.06.94-2.06 2.06-.94-2.06-.94-.94-2.06-.94 2.06-2.06.94z\"/><path d=\"M17.41 7.96l-1.37-1.37c-.4-.4-.92-.59-1.43-.59-.52 0-1.04.2-1.43.59L10.3 9.45l-7.72 7.72c-.78.78-.78 2.05 0 2.83L4 21.41c.39.39.9.59 1.41.59.51 0 1.02-.2 1.41-.59l7.78-7.78 2.81-2.81c.8-.78.8-2.07 0-2.86zM5.41 20L4 18.59l7.72-7.72 1.47 1.35L5.41 20z\"/>\n",
              "  </svg>\n",
              "      </button>\n",
              "      \n",
              "  <style>\n",
              "    .colab-df-container {\n",
              "      display:flex;\n",
              "      flex-wrap:wrap;\n",
              "      gap: 12px;\n",
              "    }\n",
              "\n",
              "    .colab-df-convert {\n",
              "      background-color: #E8F0FE;\n",
              "      border: none;\n",
              "      border-radius: 50%;\n",
              "      cursor: pointer;\n",
              "      display: none;\n",
              "      fill: #1967D2;\n",
              "      height: 32px;\n",
              "      padding: 0 0 0 0;\n",
              "      width: 32px;\n",
              "    }\n",
              "\n",
              "    .colab-df-convert:hover {\n",
              "      background-color: #E2EBFA;\n",
              "      box-shadow: 0px 1px 2px rgba(60, 64, 67, 0.3), 0px 1px 3px 1px rgba(60, 64, 67, 0.15);\n",
              "      fill: #174EA6;\n",
              "    }\n",
              "\n",
              "    [theme=dark] .colab-df-convert {\n",
              "      background-color: #3B4455;\n",
              "      fill: #D2E3FC;\n",
              "    }\n",
              "\n",
              "    [theme=dark] .colab-df-convert:hover {\n",
              "      background-color: #434B5C;\n",
              "      box-shadow: 0px 1px 3px 1px rgba(0, 0, 0, 0.15);\n",
              "      filter: drop-shadow(0px 1px 2px rgba(0, 0, 0, 0.3));\n",
              "      fill: #FFFFFF;\n",
              "    }\n",
              "  </style>\n",
              "\n",
              "      <script>\n",
              "        const buttonEl =\n",
              "          document.querySelector('#df-c1bdc3a9-02ee-48cd-91d0-a65eaeaa527d button.colab-df-convert');\n",
              "        buttonEl.style.display =\n",
              "          google.colab.kernel.accessAllowed ? 'block' : 'none';\n",
              "\n",
              "        async function convertToInteractive(key) {\n",
              "          const element = document.querySelector('#df-c1bdc3a9-02ee-48cd-91d0-a65eaeaa527d');\n",
              "          const dataTable =\n",
              "            await google.colab.kernel.invokeFunction('convertToInteractive',\n",
              "                                                     [key], {});\n",
              "          if (!dataTable) return;\n",
              "\n",
              "          const docLinkHtml = 'Like what you see? Visit the ' +\n",
              "            '<a target=\"_blank\" href=https://colab.research.google.com/notebooks/data_table.ipynb>data table notebook</a>'\n",
              "            + ' to learn more about interactive tables.';\n",
              "          element.innerHTML = '';\n",
              "          dataTable['output_type'] = 'display_data';\n",
              "          await google.colab.output.renderOutput(dataTable, element);\n",
              "          const docLink = document.createElement('div');\n",
              "          docLink.innerHTML = docLinkHtml;\n",
              "          element.appendChild(docLink);\n",
              "        }\n",
              "      </script>\n",
              "    </div>\n",
              "  </div>\n",
              "  "
            ]
          },
          "metadata": {},
          "execution_count": 343
        }
      ]
    },
    {
      "cell_type": "code",
      "source": [
        "gmac_original = (ca.get_gm_modified(r[r.subject==1])).pred.values"
      ],
      "metadata": {
        "id": "9zX-PG40oCV-"
      },
      "execution_count": 344,
      "outputs": []
    },
    {
      "cell_type": "code",
      "source": [
        "ca.confmatrix(gmac_original, gnd[1:])"
      ],
      "metadata": {
        "colab": {
          "base_uri": "https://localhost:8080/",
          "height": 81
        },
        "id": "EYJNsSESoZ6Y",
        "outputId": "fb3cea56-831a-4d7a-a53c-689564232dac"
      },
      "execution_count": 345,
      "outputs": [
        {
          "output_type": "execute_result",
          "data": {
            "text/plain": [
              "   true positive  false positive  false negative  true negative  accuracy  \\\n",
              "0        0.54359        0.110256        0.207692       0.138462  0.682051   \n",
              "\n",
              "   gwets ac1 score  sensitivity  specificity  precision  f1 score  \\\n",
              "0         0.453757     0.723549     0.556701   0.831373  0.773723   \n",
              "\n",
              "   balanced accuracy  \n",
              "0           0.640125  "
            ],
            "text/html": [
              "\n",
              "  <div id=\"df-99a3e2a4-7fef-478e-a5e5-704b297f7a81\">\n",
              "    <div class=\"colab-df-container\">\n",
              "      <div>\n",
              "<style scoped>\n",
              "    .dataframe tbody tr th:only-of-type {\n",
              "        vertical-align: middle;\n",
              "    }\n",
              "\n",
              "    .dataframe tbody tr th {\n",
              "        vertical-align: top;\n",
              "    }\n",
              "\n",
              "    .dataframe thead th {\n",
              "        text-align: right;\n",
              "    }\n",
              "</style>\n",
              "<table border=\"1\" class=\"dataframe\">\n",
              "  <thead>\n",
              "    <tr style=\"text-align: right;\">\n",
              "      <th></th>\n",
              "      <th>true positive</th>\n",
              "      <th>false positive</th>\n",
              "      <th>false negative</th>\n",
              "      <th>true negative</th>\n",
              "      <th>accuracy</th>\n",
              "      <th>gwets ac1 score</th>\n",
              "      <th>sensitivity</th>\n",
              "      <th>specificity</th>\n",
              "      <th>precision</th>\n",
              "      <th>f1 score</th>\n",
              "      <th>balanced accuracy</th>\n",
              "    </tr>\n",
              "  </thead>\n",
              "  <tbody>\n",
              "    <tr>\n",
              "      <th>0</th>\n",
              "      <td>0.54359</td>\n",
              "      <td>0.110256</td>\n",
              "      <td>0.207692</td>\n",
              "      <td>0.138462</td>\n",
              "      <td>0.682051</td>\n",
              "      <td>0.453757</td>\n",
              "      <td>0.723549</td>\n",
              "      <td>0.556701</td>\n",
              "      <td>0.831373</td>\n",
              "      <td>0.773723</td>\n",
              "      <td>0.640125</td>\n",
              "    </tr>\n",
              "  </tbody>\n",
              "</table>\n",
              "</div>\n",
              "      <button class=\"colab-df-convert\" onclick=\"convertToInteractive('df-99a3e2a4-7fef-478e-a5e5-704b297f7a81')\"\n",
              "              title=\"Convert this dataframe to an interactive table.\"\n",
              "              style=\"display:none;\">\n",
              "        \n",
              "  <svg xmlns=\"http://www.w3.org/2000/svg\" height=\"24px\"viewBox=\"0 0 24 24\"\n",
              "       width=\"24px\">\n",
              "    <path d=\"M0 0h24v24H0V0z\" fill=\"none\"/>\n",
              "    <path d=\"M18.56 5.44l.94 2.06.94-2.06 2.06-.94-2.06-.94-.94-2.06-.94 2.06-2.06.94zm-11 1L8.5 8.5l.94-2.06 2.06-.94-2.06-.94L8.5 2.5l-.94 2.06-2.06.94zm10 10l.94 2.06.94-2.06 2.06-.94-2.06-.94-.94-2.06-.94 2.06-2.06.94z\"/><path d=\"M17.41 7.96l-1.37-1.37c-.4-.4-.92-.59-1.43-.59-.52 0-1.04.2-1.43.59L10.3 9.45l-7.72 7.72c-.78.78-.78 2.05 0 2.83L4 21.41c.39.39.9.59 1.41.59.51 0 1.02-.2 1.41-.59l7.78-7.78 2.81-2.81c.8-.78.8-2.07 0-2.86zM5.41 20L4 18.59l7.72-7.72 1.47 1.35L5.41 20z\"/>\n",
              "  </svg>\n",
              "      </button>\n",
              "      \n",
              "  <style>\n",
              "    .colab-df-container {\n",
              "      display:flex;\n",
              "      flex-wrap:wrap;\n",
              "      gap: 12px;\n",
              "    }\n",
              "\n",
              "    .colab-df-convert {\n",
              "      background-color: #E8F0FE;\n",
              "      border: none;\n",
              "      border-radius: 50%;\n",
              "      cursor: pointer;\n",
              "      display: none;\n",
              "      fill: #1967D2;\n",
              "      height: 32px;\n",
              "      padding: 0 0 0 0;\n",
              "      width: 32px;\n",
              "    }\n",
              "\n",
              "    .colab-df-convert:hover {\n",
              "      background-color: #E2EBFA;\n",
              "      box-shadow: 0px 1px 2px rgba(60, 64, 67, 0.3), 0px 1px 3px 1px rgba(60, 64, 67, 0.15);\n",
              "      fill: #174EA6;\n",
              "    }\n",
              "\n",
              "    [theme=dark] .colab-df-convert {\n",
              "      background-color: #3B4455;\n",
              "      fill: #D2E3FC;\n",
              "    }\n",
              "\n",
              "    [theme=dark] .colab-df-convert:hover {\n",
              "      background-color: #434B5C;\n",
              "      box-shadow: 0px 1px 3px 1px rgba(0, 0, 0, 0.15);\n",
              "      filter: drop-shadow(0px 1px 2px rgba(0, 0, 0, 0.3));\n",
              "      fill: #FFFFFF;\n",
              "    }\n",
              "  </style>\n",
              "\n",
              "      <script>\n",
              "        const buttonEl =\n",
              "          document.querySelector('#df-99a3e2a4-7fef-478e-a5e5-704b297f7a81 button.colab-df-convert');\n",
              "        buttonEl.style.display =\n",
              "          google.colab.kernel.accessAllowed ? 'block' : 'none';\n",
              "\n",
              "        async function convertToInteractive(key) {\n",
              "          const element = document.querySelector('#df-99a3e2a4-7fef-478e-a5e5-704b297f7a81');\n",
              "          const dataTable =\n",
              "            await google.colab.kernel.invokeFunction('convertToInteractive',\n",
              "                                                     [key], {});\n",
              "          if (!dataTable) return;\n",
              "\n",
              "          const docLinkHtml = 'Like what you see? Visit the ' +\n",
              "            '<a target=\"_blank\" href=https://colab.research.google.com/notebooks/data_table.ipynb>data table notebook</a>'\n",
              "            + ' to learn more about interactive tables.';\n",
              "          element.innerHTML = '';\n",
              "          dataTable['output_type'] = 'display_data';\n",
              "          await google.colab.output.renderOutput(dataTable, element);\n",
              "          const docLink = document.createElement('div');\n",
              "          docLink.innerHTML = docLinkHtml;\n",
              "          element.appendChild(docLink);\n",
              "        }\n",
              "      </script>\n",
              "    </div>\n",
              "  </div>\n",
              "  "
            ]
          },
          "metadata": {},
          "execution_count": 345
        }
      ]
    },
    {
      "cell_type": "code",
      "source": [
        "np.column_stack((gnd, gmac, np.append(0, gmac_original)))"
      ],
      "metadata": {
        "colab": {
          "base_uri": "https://localhost:8080/"
        },
        "id": "gAsY1a0FpLRK",
        "outputId": "fe674877-581c-4406-eea9-1f9b6e8df1b7"
      },
      "execution_count": 346,
      "outputs": [
        {
          "output_type": "execute_result",
          "data": {
            "text/plain": [
              "array([[0, 0, 0],\n",
              "       [0, 1, 0],\n",
              "       [0, 1, 0],\n",
              "       ...,\n",
              "       [0, 1, 0],\n",
              "       [0, 1, 0],\n",
              "       [0, 1, 0]])"
            ]
          },
          "metadata": {},
          "execution_count": 346
        }
      ]
    },
    {
      "cell_type": "code",
      "source": [
        "pitch_hat"
      ],
      "metadata": {
        "colab": {
          "base_uri": "https://localhost:8080/"
        },
        "id": "i09mIUL6qfKb",
        "outputId": "57ea8933-1d22-4089-b811-bbe546b2b38f"
      },
      "execution_count": 303,
      "outputs": [
        {
          "output_type": "execute_result",
          "data": {
            "text/plain": [
              "array([-17.50453284, -17.51216007, -17.52154786, ..., -64.04789218,\n",
              "       -63.99041558, -63.82249496])"
            ]
          },
          "metadata": {},
          "execution_count": 303
        }
      ]
    },
    {
      "cell_type": "code",
      "source": [
        "pitch"
      ],
      "metadata": {
        "colab": {
          "base_uri": "https://localhost:8080/"
        },
        "id": "yXx2zX-0ucA6",
        "outputId": "cbdda239-39d5-4fda-87e9-6b2ac61ab614"
      },
      "execution_count": 304,
      "outputs": [
        {
          "output_type": "execute_result",
          "data": {
            "text/plain": [
              "array([-18.00087546, -18.04223279, -18.17406684, ..., -64.73383036,\n",
              "       -65.37888202, -65.79471114])"
            ]
          },
          "metadata": {},
          "execution_count": 304
        }
      ]
    },
    {
      "cell_type": "code",
      "source": [
        "counts"
      ],
      "metadata": {
        "colab": {
          "base_uri": "https://localhost:8080/"
        },
        "id": "kdWMFXqIuiJf",
        "outputId": "d6aa86f4-74b6-446f-c0a8-15a7eaad3569"
      },
      "execution_count": 306,
      "outputs": [
        {
          "output_type": "execute_result",
          "data": {
            "text/plain": [
              "array([  0.,   0.,   0.,   0., 103., 103., 100., 102., 130., 148., 153.,\n",
              "       159., 129., 110.,  99., 118., 108., 121., 126., 105.,  81.,  72.,\n",
              "        90., 102., 106., 104.,  89.,  53.,  17.,  10.,   0.,   0.,   0.,\n",
              "         0.,   4.,   5.,   5.,   7.,   7.,   4.,   4.,   4.,   6.,  12.,\n",
              "        16.,  24.,  26.,  27.,  20.,  18.,  26.,  46.,  54.,  64.,  70.,\n",
              "        62.,  52.,  54.,  55.,  51.,  54.,  52.,  58.,  67.,  88.,  93.,\n",
              "        98.,  91.,  92., 111., 115., 116., 126., 119.,  88.,  76.,  74.,\n",
              "        72.,  95., 120., 131., 143., 137., 138., 136., 130., 116., 121.,\n",
              "       109.,  90.,  82.,  89.,  78.,  56.,  65.,  92.,  93., 110., 113.,\n",
              "       108.,  90.,  81.,  75.,  83.,  87.,  96., 114., 132., 167., 188.,\n",
              "       201., 190., 181., 163., 140., 129., 159., 184., 203., 237., 247.,\n",
              "       224., 198., 199., 161., 137., 122., 105.,  75.,  84., 104., 118.,\n",
              "       135., 141., 146., 146., 135., 121., 132., 121., 108., 112., 107.,\n",
              "        91.,  80.,  84.,  73.,  88.,  93.,  99., 116., 122., 135., 151.,\n",
              "       161., 156., 166., 141.,  99.,  82.,  78.,  87., 112., 133., 142.,\n",
              "       144., 122.,  99.,  93.,  82.,  76., 101., 110., 116., 123., 114.,\n",
              "        88.,  69.,  48.,  31.,  17.,   8.,   5.,   2.,   0.,   0.,   0.,\n",
              "         0.,   0.,   2.,   6.,   6.,   6.,   6.,   5.,   3.,   3.,   5.,\n",
              "        21.,  48.,  83., 109., 128., 139., 130., 138., 136., 120., 122.,\n",
              "       133., 134., 153., 153., 138., 120.,  92.,  97., 136., 140., 139.,\n",
              "       151., 131., 100.,  92.,  95.,  75.,  62.,  55.,  50.,  58.,  75.,\n",
              "        63.,  83.,  89., 120., 135., 136., 130., 171., 175., 158., 186.,\n",
              "       212., 182., 135., 153., 161., 136., 150., 161., 147., 157., 216.,\n",
              "       217., 206., 190., 160., 114.,  92.,  99., 107., 107., 101.,  91.,\n",
              "        75.,  56.,  33.,   6.,   0.,   0.,   0.,   0.,   0.,   0.,   0.,\n",
              "         0.,   0.,   0.,   3.,  13.,  42.,  77.,  89., 103.,  93.,  63.,\n",
              "        29.,  16.,   0.,   4.,  42.,  86.,  92., 115., 128., 100.,  60.,\n",
              "        53.,  31.,  13.,  10.,   9.,  12.,  12.,  12.,  20.,  39.,  54.,\n",
              "        55.,  56.,  41.,  20.,   2.,   4.,  35.,  77.,  87., 105., 104.,\n",
              "        78.,  48.,  55.,  61.,  69.,  90., 111., 108., 103., 106.,  87.,\n",
              "        68.,  59.,  42.,  30.,  29.,  24.,  36.,  40.,  77., 110., 118.,\n",
              "       126., 140., 130., 142., 169., 148., 148., 144., 113.,  71.,  83.,\n",
              "        72.,  55.,  37.,  48.,  40.,  49.,  48.,  56.,  49.,  50.,  35.,\n",
              "        46.,  48.,  49.,  49.,  46.,  29.,  15.,   9.,   0.,   4.,   9.,\n",
              "        14.,  17.,  17.,  14.,   8.,   3.,   0.,   0.,   4.,   7.,  10.,\n",
              "        13.,  20.,  18.,  23.,  26.,  30.,  25.])"
            ]
          },
          "metadata": {},
          "execution_count": 306
        }
      ]
    },
    {
      "cell_type": "code",
      "source": [
        "amag"
      ],
      "metadata": {
        "colab": {
          "base_uri": "https://localhost:8080/"
        },
        "id": "faJv5GkhudaB",
        "outputId": "b90ba706-3cde-4f87-821d-4e4f24b81e38"
      },
      "execution_count": 305,
      "outputs": [
        {
          "output_type": "execute_result",
          "data": {
            "text/plain": [
              "array([ 0.14459262,  2.1839492 ,  5.2803897 ,  8.88063492, 13.07741808,\n",
              "       18.45306616, 23.42920824, 24.62833428, 23.57817685, 22.33445107,\n",
              "       19.36390375, 17.6875684 , 17.14938484, 17.59410178, 22.42218024,\n",
              "       25.21270062, 22.47561743, 20.86376369, 20.84154065, 18.21282555,\n",
              "       18.80433915, 20.69459821, 20.79469609, 18.81114448, 14.23674543,\n",
              "        8.81017418,  4.28891648,  2.01437083,  1.14337383,  0.89783687,\n",
              "        1.28700013,  1.80557951,  3.27472219,  4.31524083,  5.03609948,\n",
              "        4.96693813,  5.29451146,  4.20100225,  3.39425764,  3.89826352,\n",
              "        4.13858085,  4.55380472,  8.22309831,  9.78124847,  9.28974318,\n",
              "       10.12211934, 10.30319765,  7.21772537,  6.4991869 ,  7.26749773,\n",
              "        8.08843055,  7.86262273,  8.62624994, 11.56880276, 13.50727204,\n",
              "       13.14817057, 16.45153597, 16.58162214, 13.57574511, 12.02523245,\n",
              "       14.20380266, 13.1311533 , 13.92946307, 16.88172435, 18.40936363,\n",
              "       17.88412967, 17.75709463, 19.02498465, 18.74207059, 19.09700022,\n",
              "       19.17852641, 21.84372507, 20.83517012, 19.61498189, 18.89475016,\n",
              "       19.06820748, 16.67383085, 19.28044375, 21.55679337, 21.42352371,\n",
              "       21.86482098, 23.41489025, 24.34530122, 24.99235889, 24.92298407,\n",
              "       24.62591493, 23.42126062, 21.54844227, 21.10310748, 21.01827755,\n",
              "       19.32199048, 15.55663223, 12.1032059 , 12.97583394, 14.18098584,\n",
              "       16.25082093, 21.14755962, 23.34130593, 20.37731853, 19.71609613,\n",
              "       16.95858797, 18.30163745, 20.29561354, 21.2910462 , 24.6671873 ,\n",
              "       29.63069497, 26.78105841, 26.64898203, 29.3489413 , 26.43924078,\n",
              "       22.24006563, 22.96602568, 22.84474547, 20.76960746, 20.75917091,\n",
              "       24.12062941, 28.73091318, 32.58038211, 35.76230815, 39.5377552 ,\n",
              "       41.92253624, 41.7286649 , 38.36962351, 34.28163433, 27.9345347 ,\n",
              "       19.51136612, 12.61171666,  9.55737547,  9.04447614, 10.76006572,\n",
              "       14.76802316, 17.86650015, 19.47307947, 19.68048965, 21.46286985,\n",
              "       20.90667799, 19.09115708, 19.28930547, 20.02591677, 20.38805397,\n",
              "       22.04261506, 23.77717354, 23.71064037, 25.05795498, 24.1149093 ,\n",
              "       21.50793573, 20.57971998, 20.92282967, 19.93959713, 20.08348866,\n",
              "       24.49841474, 26.11999989, 29.0753763 , 31.73757143, 35.6347393 ,\n",
              "       33.94515392, 34.98396163, 34.73089351, 33.58081953, 30.99030167,\n",
              "       30.69633445, 30.07929175, 28.14523031, 27.88853794, 26.46342755,\n",
              "       25.22281349, 25.36404011, 28.11827888, 29.09517701, 31.48026429,\n",
              "       31.73458158, 28.49453871, 22.44148623, 20.32454166, 17.05377607,\n",
              "       17.38820122, 15.56131781, 14.47122079, 10.91546534,  7.58193994,\n",
              "        3.39651552,  2.6645127 ,  1.99284916,  1.19388619,  1.11491652,\n",
              "        1.2912126 ,  1.1549201 ,  0.97687927,  0.8817818 ,  2.34401955,\n",
              "        3.06946631,  3.82111094,  4.19003002,  4.67525035,  3.96919092,\n",
              "        4.02028017,  4.37730571,  6.72884532, 11.92396762, 15.97921513,\n",
              "       20.46711078, 22.15197334, 22.8382923 , 20.93882251, 22.09583164,\n",
              "       21.60787106, 22.86636897, 26.28831224, 25.79527643, 22.59423662,\n",
              "       21.04985872, 18.37532228, 13.98926264, 14.92177377, 15.90462064,\n",
              "       15.27796345, 17.77458135, 21.07121843, 19.90864574, 19.61713429,\n",
              "       20.96765269, 19.45248107, 16.58030664, 18.53085073, 18.33094279,\n",
              "       18.37684991, 19.6554362 , 18.96178829, 18.58757362, 19.09254719,\n",
              "       16.84574175, 14.77211598, 16.70193441, 17.97887208, 16.78806024,\n",
              "       16.39225322, 18.80649923, 21.09459049, 24.4152064 , 25.46297449,\n",
              "       27.48605898, 28.25395156, 28.22635746, 27.31241505, 27.35583813,\n",
              "       26.65004551, 27.11339281, 26.51249169, 23.00971544, 22.14539043,\n",
              "       24.45126143, 26.84498816, 25.27187963, 21.2061157 , 19.44571719,\n",
              "       19.69129604, 15.75806333, 14.00366053, 16.88661781, 19.32602974,\n",
              "       18.40130391, 17.8647081 , 16.84253701, 13.16158477,  9.57204276,\n",
              "        5.09907657,  1.92040286,  0.55781344,  0.66511942,  0.76127996,\n",
              "        0.67785092,  0.69777434,  0.54417538,  0.45260521,  0.26862999,\n",
              "        0.57382602,  0.91290915,  1.27517917,  3.15169984, 10.81231309,\n",
              "       15.07903848, 14.84758777, 14.48531775, 12.47403367,  4.81342042,\n",
              "        0.22490268,  0.        ,  0.        ,  0.55259474,  5.84620029,\n",
              "       11.73371728, 14.44126526, 16.81891897, 17.96221145, 14.07957768,\n",
              "        8.29507089,  5.58752291,  3.2098692 ,  1.51398198,  0.89538136,\n",
              "        3.35401601,  4.67876954,  5.07764761,  5.9253097 ,  6.31383295,\n",
              "       10.02183796, 10.93370401, 10.53482594,  9.70515516,  8.52426075,\n",
              "        2.28344639,  0.07417008,  1.64479942,  9.03013643, 13.78400771,\n",
              "       16.26928319, 18.91158739, 18.35343446, 13.31615615, 12.39426239,\n",
              "       14.1256989 , 16.38731542, 18.24427461, 21.77400874, 23.41539144,\n",
              "       22.31376594, 18.61765647, 18.72063828, 18.83424586, 17.88331541,\n",
              "       16.49013157, 15.91055191, 13.71327057,  9.43228249,  9.04414078,\n",
              "        9.10604945, 11.48958658, 22.94992317, 30.07462684, 30.30906074,\n",
              "       31.88281867, 32.77348854, 24.73288347, 22.22435897, 23.60452014,\n",
              "       23.19107116, 23.40837307, 19.82823288, 13.48365007,  8.29433916,\n",
              "        7.40905763,  6.10465682,  8.01971061, 10.48837163, 12.8691223 ,\n",
              "       13.38180252, 12.85785673, 13.01919266, 12.95422021, 11.1964079 ,\n",
              "        9.43000629,  9.99223366,  8.48086484,  6.39744223,  5.21493164,\n",
              "        4.3809788 ,  1.50001427,  0.32026595,  0.        ,  0.        ,\n",
              "        0.20335914,  1.88575945,  3.69635139,  5.52948502,  5.71952875,\n",
              "        5.53367397,  3.85127367,  2.04068173,  0.2075481 ,  0.17470327,\n",
              "        1.13304553,  2.84989794,  4.34053766,  5.99618351,  8.60727811,\n",
              "        9.65657061, 10.17169914, 11.23607173, 11.26425674, 10.03166474,\n",
              "        8.67647638])"
            ]
          },
          "metadata": {},
          "execution_count": 305
        }
      ]
    },
    {
      "cell_type": "code",
      "source": [],
      "metadata": {
        "id": "CAO80K6-ugk9"
      },
      "execution_count": null,
      "outputs": []
    }
  ]
}